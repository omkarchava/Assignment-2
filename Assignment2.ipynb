{
 "cells": [
  {
   "cell_type": "markdown",
   "metadata": {},
   "source": [
    "Q1. Which keyword is used to create a function? Create a function to return a list of odd numbers in the\n",
    "range of 1 to 25.\n",
    "Answer:-\n",
    "Keyword used is def My_function(arguments):\n",
    "\n"
   ]
  },
  {
   "cell_type": "code",
   "execution_count": 108,
   "metadata": {},
   "outputs": [
    {
     "name": "stdout",
     "output_type": "stream",
     "text": [
      "1\n",
      "3\n",
      "5\n",
      "7\n",
      "9\n",
      "11\n",
      "13\n",
      "15\n",
      "17\n",
      "19\n",
      "21\n",
      "23\n"
     ]
    }
   ],
   "source": [
    "def odd_numbers(A):\n",
    "    for i in range(A):\n",
    "        if i%2!=0:\n",
    "            print(i)\n",
    "odd_numbers(25)"
   ]
  },
  {
   "cell_type": "markdown",
   "metadata": {},
   "source": [
    "Q2. Why *args and **kwargs is used in some functions? Create a function each for *args and **kwargs to\n",
    "demonstrate their use.\n",
    "Answer:- *args is used to tale multiple inputs without defining constraints inside function.\n",
    "    *kwargs is used to take dictionary  as input."
   ]
  },
  {
   "cell_type": "code",
   "execution_count": 109,
   "metadata": {},
   "outputs": [
    {
     "name": "stdout",
     "output_type": "stream",
     "text": [
      "<function My_function at 0x005D2C40>\n",
      "<function My_function at 0x005D2C40>\n"
     ]
    }
   ],
   "source": [
    "def My_function(*args):\n",
    "    print(My_function)\n",
    "Y=My_function(1,2,3,'a','b','c')\n",
    "\n",
    "def My_function1(*kwargs):\n",
    "    print(My_function)\n",
    "X=My_function1(1,2,3,'a','b','c')\n",
    "\n"
   ]
  },
  {
   "cell_type": "markdown",
   "metadata": {},
   "source": [
    "Q3. What is an iterator in python? Name the method used to initialise the iterator object and the method\n",
    "used for iteration. Use these methods to print the first five elements of the given list [2, 4, 6, 8, 10, 12, 14, 16,\n",
    "18, 20].\n",
    "\n",
    "Answer:-An iterator is an object that contains a countable number of values.\n",
    "\n",
    "An iterator is an object that can be iterated upon, meaning that you can traverse through all the values."
   ]
  },
  {
   "cell_type": "code",
   "execution_count": 110,
   "metadata": {},
   "outputs": [
    {
     "name": "stdout",
     "output_type": "stream",
     "text": [
      "2\n",
      "4\n",
      "6\n",
      "8\n",
      "10\n"
     ]
    }
   ],
   "source": [
    "\n",
    "\n",
    "def Five_numbers(List):\n",
    "    for i in range(0,5):\n",
    "        print(List[i])\n",
    "Five_numbers([2, 4, 6, 8, 10, 12, 14, 16,18, 20])"
   ]
  },
  {
   "cell_type": "markdown",
   "metadata": {},
   "source": [
    "Q4. What is a generator function in python? Why yield keyword is used? Give an example of a generator\n",
    "function.\n",
    "Answer:-yield keyword is used to create a generator function. A type of function that is memory efficient and can be used like an iterator object.\n",
    "    "
   ]
  },
  {
   "cell_type": "code",
   "execution_count": 111,
   "metadata": {},
   "outputs": [
    {
     "name": "stdout",
     "output_type": "stream",
     "text": [
      "1\n",
      "2\n",
      "5\n",
      "omkar\n"
     ]
    }
   ],
   "source": [
    "def Yeild_function():\n",
    "        yield(1)\n",
    "        yield(2)\n",
    "        yield(5)\n",
    "        yield(\"omkar\")\n",
    "a=Yeild_function()\n",
    "print(next(a))\n",
    "print(next(a))\n",
    "print(next(a))\n",
    "print(next(a))\n"
   ]
  },
  {
   "cell_type": "markdown",
   "metadata": {},
   "source": [
    "Q5. Create a generator function for prime numbers less than 1000. Use the next() method to print the\n",
    "first 20 prime numbers."
   ]
  },
  {
   "cell_type": "code",
   "execution_count": 112,
   "metadata": {},
   "outputs": [
    {
     "name": "stdout",
     "output_type": "stream",
     "text": [
      "2\n",
      "3\n",
      "4\n",
      "5\n",
      "6\n",
      "7\n",
      "8\n",
      "9\n",
      "10\n",
      "11\n",
      "12\n",
      "13\n",
      "14\n",
      "15\n",
      "16\n",
      "17\n",
      "18\n",
      "19\n",
      "20\n",
      "21\n"
     ]
    }
   ],
   "source": [
    "def prime_numbers():\n",
    "    count1=0\n",
    "    for i in range(2,1000):\n",
    "        count=0\n",
    "        for j in range(0,i+1):\n",
    "            if j%i==0:\n",
    "                count+=1\n",
    "        if count==2:\n",
    "            yield(i)\n",
    "            count1+=1\n",
    "        if count1==20:\n",
    "            break\n",
    "B=prime_numbers()\n",
    "for k in range(0,20):\n",
    "    print(next(B))"
   ]
  }
 ],
 "metadata": {
  "kernelspec": {
   "display_name": "Python 3",
   "language": "python",
   "name": "python3"
  },
  "language_info": {
   "codemirror_mode": {
    "name": "ipython",
    "version": 3
   },
   "file_extension": ".py",
   "mimetype": "text/x-python",
   "name": "python",
   "nbconvert_exporter": "python",
   "pygments_lexer": "ipython3",
   "version": "3.8.5"
  }
 },
 "nbformat": 4,
 "nbformat_minor": 4
}
