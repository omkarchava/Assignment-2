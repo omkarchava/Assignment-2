{
 "cells": [
  {
   "cell_type": "code",
   "execution_count": 3,
   "metadata": {},
   "outputs": [
    {
     "data": {
      "text/html": [
       "<div>\n",
       "<style scoped>\n",
       "    .dataframe tbody tr th:only-of-type {\n",
       "        vertical-align: middle;\n",
       "    }\n",
       "\n",
       "    .dataframe tbody tr th {\n",
       "        vertical-align: top;\n",
       "    }\n",
       "\n",
       "    .dataframe thead th {\n",
       "        text-align: right;\n",
       "    }\n",
       "</style>\n",
       "<table border=\"1\" class=\"dataframe\">\n",
       "  <thead>\n",
       "    <tr style=\"text-align: right;\">\n",
       "      <th></th>\n",
       "      <th>course_name</th>\n",
       "      <th>duration</th>\n",
       "    </tr>\n",
       "  </thead>\n",
       "  <tbody>\n",
       "    <tr>\n",
       "      <th>0</th>\n",
       "      <td>Data Science</td>\n",
       "      <td>2</td>\n",
       "    </tr>\n",
       "    <tr>\n",
       "      <th>1</th>\n",
       "      <td>Machine Learning</td>\n",
       "      <td>3</td>\n",
       "    </tr>\n",
       "    <tr>\n",
       "      <th>2</th>\n",
       "      <td>Big Data</td>\n",
       "      <td>6</td>\n",
       "    </tr>\n",
       "    <tr>\n",
       "      <th>3</th>\n",
       "      <td>Data Engineer</td>\n",
       "      <td>4</td>\n",
       "    </tr>\n",
       "  </tbody>\n",
       "</table>\n",
       "</div>"
      ],
      "text/plain": [
       "        course_name  duration\n",
       "0      Data Science         2\n",
       "1  Machine Learning         3\n",
       "2          Big Data         6\n",
       "3     Data Engineer         4"
      ]
     },
     "execution_count": 3,
     "metadata": {},
     "output_type": "execute_result"
    }
   ],
   "source": [
    "import pandas as pd\n",
    "course_name = ['Data Science', 'Machine Learning', 'Big Data', 'Data Engineer']\n",
    "duration = [2,3,6,4]\n",
    "df = pd.DataFrame(data = {'course_name' : course_name, 'duration' : duration})\n",
    "df"
   ]
  },
  {
   "cell_type": "markdown",
   "metadata": {},
   "source": [
    "Q1. Write a code to print the data present in the second row of the dataframe, df."
   ]
  },
  {
   "cell_type": "code",
   "execution_count": 15,
   "metadata": {},
   "outputs": [
    {
     "data": {
      "text/plain": [
       "course_name    Big Data\n",
       "duration              6\n",
       "Name: 2, dtype: object"
      ]
     },
     "execution_count": 15,
     "metadata": {},
     "output_type": "execute_result"
    }
   ],
   "source": [
    "df.iloc[2]"
   ]
  },
  {
   "cell_type": "markdown",
   "metadata": {},
   "source": [
    "Q2. What is the difference between the functions loc and iloc in pandas.DataFrame?\n",
    "Answer:-\n",
    "1)loc:-\n",
    "loc will print the all the data with upper bound df.loc[0:2]\n",
    "2)iloc:-\n",
    "loc will print the all the data with not with upper bound df.iloc[0:2]"
   ]
  },
  {
   "cell_type": "code",
   "execution_count": 17,
   "metadata": {},
   "outputs": [
    {
     "data": {
      "text/html": [
       "<div>\n",
       "<style scoped>\n",
       "    .dataframe tbody tr th:only-of-type {\n",
       "        vertical-align: middle;\n",
       "    }\n",
       "\n",
       "    .dataframe tbody tr th {\n",
       "        vertical-align: top;\n",
       "    }\n",
       "\n",
       "    .dataframe thead th {\n",
       "        text-align: right;\n",
       "    }\n",
       "</style>\n",
       "<table border=\"1\" class=\"dataframe\">\n",
       "  <thead>\n",
       "    <tr style=\"text-align: right;\">\n",
       "      <th></th>\n",
       "      <th>column_1</th>\n",
       "      <th>column_2</th>\n",
       "      <th>column_3</th>\n",
       "      <th>column_4</th>\n",
       "      <th>column_5</th>\n",
       "      <th>column_6</th>\n",
       "    </tr>\n",
       "  </thead>\n",
       "  <tbody>\n",
       "    <tr>\n",
       "      <th>1</th>\n",
       "      <td>0.971776</td>\n",
       "      <td>0.769419</td>\n",
       "      <td>0.564894</td>\n",
       "      <td>0.862525</td>\n",
       "      <td>0.401929</td>\n",
       "      <td>0.134875</td>\n",
       "    </tr>\n",
       "    <tr>\n",
       "      <th>2</th>\n",
       "      <td>0.853552</td>\n",
       "      <td>0.837894</td>\n",
       "      <td>0.536981</td>\n",
       "      <td>0.142067</td>\n",
       "      <td>0.127689</td>\n",
       "      <td>0.368020</td>\n",
       "    </tr>\n",
       "    <tr>\n",
       "      <th>3</th>\n",
       "      <td>0.875121</td>\n",
       "      <td>0.185177</td>\n",
       "      <td>0.743366</td>\n",
       "      <td>0.387856</td>\n",
       "      <td>0.959860</td>\n",
       "      <td>0.370421</td>\n",
       "    </tr>\n",
       "    <tr>\n",
       "      <th>4</th>\n",
       "      <td>0.102259</td>\n",
       "      <td>0.588305</td>\n",
       "      <td>0.272095</td>\n",
       "      <td>0.002010</td>\n",
       "      <td>0.376875</td>\n",
       "      <td>0.779176</td>\n",
       "    </tr>\n",
       "    <tr>\n",
       "      <th>5</th>\n",
       "      <td>0.795768</td>\n",
       "      <td>0.508699</td>\n",
       "      <td>0.074994</td>\n",
       "      <td>0.004158</td>\n",
       "      <td>0.962872</td>\n",
       "      <td>0.236298</td>\n",
       "    </tr>\n",
       "    <tr>\n",
       "      <th>6</th>\n",
       "      <td>0.841638</td>\n",
       "      <td>0.125348</td>\n",
       "      <td>0.060773</td>\n",
       "      <td>0.866255</td>\n",
       "      <td>0.921980</td>\n",
       "      <td>0.389964</td>\n",
       "    </tr>\n",
       "  </tbody>\n",
       "</table>\n",
       "</div>"
      ],
      "text/plain": [
       "   column_1  column_2  column_3  column_4  column_5  column_6\n",
       "1  0.971776  0.769419  0.564894  0.862525  0.401929  0.134875\n",
       "2  0.853552  0.837894  0.536981  0.142067  0.127689  0.368020\n",
       "3  0.875121  0.185177  0.743366  0.387856  0.959860  0.370421\n",
       "4  0.102259  0.588305  0.272095  0.002010  0.376875  0.779176\n",
       "5  0.795768  0.508699  0.074994  0.004158  0.962872  0.236298\n",
       "6  0.841638  0.125348  0.060773  0.866255  0.921980  0.389964"
      ]
     },
     "execution_count": 17,
     "metadata": {},
     "output_type": "execute_result"
    }
   ],
   "source": [
    "import pandas as pd\n",
    "import numpy as np\n",
    "columns = ['column_1', 'column_2', 'column_3', 'column_4', 'column_5', 'column_6']\n",
    "indices = [1,2,3,4,5,6]\n",
    "#Creating a dataframe:\n",
    "df1 = pd.DataFrame(np.random.rand(6,6), columns = columns, index = indices)\n",
    "df1"
   ]
  },
  {
   "cell_type": "code",
   "execution_count": 20,
   "metadata": {},
   "outputs": [
    {
     "data": {
      "text/html": [
       "<div>\n",
       "<style scoped>\n",
       "    .dataframe tbody tr th:only-of-type {\n",
       "        vertical-align: middle;\n",
       "    }\n",
       "\n",
       "    .dataframe tbody tr th {\n",
       "        vertical-align: top;\n",
       "    }\n",
       "\n",
       "    .dataframe thead th {\n",
       "        text-align: right;\n",
       "    }\n",
       "</style>\n",
       "<table border=\"1\" class=\"dataframe\">\n",
       "  <thead>\n",
       "    <tr style=\"text-align: right;\">\n",
       "      <th></th>\n",
       "      <th>column_1</th>\n",
       "      <th>column_2</th>\n",
       "      <th>column_3</th>\n",
       "      <th>column_4</th>\n",
       "      <th>column_5</th>\n",
       "      <th>column_6</th>\n",
       "    </tr>\n",
       "  </thead>\n",
       "  <tbody>\n",
       "    <tr>\n",
       "      <th>3</th>\n",
       "      <td>0.875121</td>\n",
       "      <td>0.185177</td>\n",
       "      <td>0.743366</td>\n",
       "      <td>0.387856</td>\n",
       "      <td>0.959860</td>\n",
       "      <td>0.370421</td>\n",
       "    </tr>\n",
       "    <tr>\n",
       "      <th>0</th>\n",
       "      <td>NaN</td>\n",
       "      <td>NaN</td>\n",
       "      <td>NaN</td>\n",
       "      <td>NaN</td>\n",
       "      <td>NaN</td>\n",
       "      <td>NaN</td>\n",
       "    </tr>\n",
       "    <tr>\n",
       "      <th>1</th>\n",
       "      <td>0.971776</td>\n",
       "      <td>0.769419</td>\n",
       "      <td>0.564894</td>\n",
       "      <td>0.862525</td>\n",
       "      <td>0.401929</td>\n",
       "      <td>0.134875</td>\n",
       "    </tr>\n",
       "    <tr>\n",
       "      <th>2</th>\n",
       "      <td>0.853552</td>\n",
       "      <td>0.837894</td>\n",
       "      <td>0.536981</td>\n",
       "      <td>0.142067</td>\n",
       "      <td>0.127689</td>\n",
       "      <td>0.368020</td>\n",
       "    </tr>\n",
       "  </tbody>\n",
       "</table>\n",
       "</div>"
      ],
      "text/plain": [
       "   column_1  column_2  column_3  column_4  column_5  column_6\n",
       "3  0.875121  0.185177  0.743366  0.387856  0.959860  0.370421\n",
       "0       NaN       NaN       NaN       NaN       NaN       NaN\n",
       "1  0.971776  0.769419  0.564894  0.862525  0.401929  0.134875\n",
       "2  0.853552  0.837894  0.536981  0.142067  0.127689  0.368020"
      ]
     },
     "execution_count": 20,
     "metadata": {},
     "output_type": "execute_result"
    }
   ],
   "source": [
    "new_df=df1.reindex([3,0,1,2])\n",
    "new_df"
   ]
  },
  {
   "cell_type": "code",
   "execution_count": 23,
   "metadata": {},
   "outputs": [
    {
     "data": {
      "text/plain": [
       "column_1    0.971776\n",
       "column_2    0.769419\n",
       "column_3    0.564894\n",
       "column_4    0.862525\n",
       "column_5    0.401929\n",
       "column_6    0.134875\n",
       "Name: 1, dtype: float64"
      ]
     },
     "execution_count": 23,
     "metadata": {},
     "output_type": "execute_result"
    }
   ],
   "source": [
    "new_df.loc[2]\n"
   ]
  },
  {
   "cell_type": "code",
   "execution_count": 22,
   "metadata": {},
   "outputs": [
    {
     "data": {
      "text/plain": [
       "column_1    0.971776\n",
       "column_2    0.769419\n",
       "column_3    0.564894\n",
       "column_4    0.862525\n",
       "column_5    0.401929\n",
       "column_6    0.134875\n",
       "Name: 1, dtype: float64"
      ]
     },
     "execution_count": 22,
     "metadata": {},
     "output_type": "execute_result"
    }
   ],
   "source": [
    "new_df.iloc[2]"
   ]
  },
  {
   "cell_type": "markdown",
   "metadata": {},
   "source": [
    "Answer:-\n",
    "loc will consider till row 2nd and iloc will only consider 1st row."
   ]
  },
  {
   "cell_type": "markdown",
   "metadata": {},
   "source": [
    "Q4. Write a code to find the following statistical measurements for the above dataframe df1:\n",
    "(i) mean of each and every column present in the dataframe.\n",
    "(ii) standard deviation of column, ‘column_2’"
   ]
  },
  {
   "cell_type": "code",
   "execution_count": 27,
   "metadata": {},
   "outputs": [
    {
     "data": {
      "text/plain": [
       "[0.7400189599265827,\n",
       " 0.5024738236548204,\n",
       " 0.3755173210520531,\n",
       " 0.37747846194576856,\n",
       " 0.6252006903018515,\n",
       " 0.3797925076058553]"
      ]
     },
     "execution_count": 27,
     "metadata": {},
     "output_type": "execute_result"
    }
   ],
   "source": [
    "L=[]\n",
    "L.append(df1[\"column_1\"].mean())\n",
    "L.append(df1[\"column_2\"].mean())\n",
    "L.append(df1[\"column_3\"].mean())\n",
    "L.append(df1[\"column_4\"].mean())\n",
    "L.append(df1[\"column_5\"].mean())\n",
    "L.append(df1[\"column_6\"].mean())\n",
    "L"
   ]
  },
  {
   "cell_type": "code",
   "execution_count": 28,
   "metadata": {},
   "outputs": [
    {
     "data": {
      "text/plain": [
       "[0.31781292768272434,\n",
       " 0.29464328366322984,\n",
       " 0.2818940799439534,\n",
       " 0.4025030340189459,\n",
       " 0.36691415115265796,\n",
       " 0.219277133991571]"
      ]
     },
     "execution_count": 28,
     "metadata": {},
     "output_type": "execute_result"
    }
   ],
   "source": [
    "M=[]\n",
    "M.append(df1[\"column_1\"].std())\n",
    "M.append(df1[\"column_2\"].std())\n",
    "M.append(df1[\"column_3\"].std())\n",
    "M.append(df1[\"column_4\"].std())\n",
    "M.append(df1[\"column_5\"].std())\n",
    "M.append(df1[\"column_6\"].std())\n",
    "M"
   ]
  },
  {
   "cell_type": "markdown",
   "metadata": {},
   "source": [
    "Q5. Replace the data present in the second row of column, ‘column_2’ by a string variable then find the\n",
    "mean of column, column_2.\n",
    "If you are getting errors in executing it then explain why.\n",
    "[Hint: To replace the data use df1.loc[] and equate this to string data of your choice.]\n",
    "\n",
    "Answer:-\n",
    "string objects can't to mathematical operations so this will show error.\n"
   ]
  },
  {
   "cell_type": "code",
   "execution_count": null,
   "metadata": {},
   "outputs": [],
   "source": [
    "Q6. What do you understand about the windows function in pandas and list the types of windows\n",
    "functions?\n",
    "We generally use the windows functions if we are dealing with time series data. So, if we want to know what has happened at some point in time, we can use the windows function in Pandas. Let us now learn about the various Windows Functions and operations in this section.\n",
    "\n",
    "1. Group by.\n",
    "2. Rolling."
   ]
  },
  {
   "cell_type": "code",
   "execution_count": null,
   "metadata": {},
   "outputs": [],
   "source": [
    "Q7. Write a code to print only the current month and year at the time of answering this question.\n",
    "[Hint: Use pandas.datetime function]"
   ]
  },
  {
   "cell_type": "code",
   "execution_count": 32,
   "metadata": {},
   "outputs": [
    {
     "data": {
      "text/plain": [
       "Timestamp('2023-02-27 00:00:00')"
      ]
     },
     "execution_count": 32,
     "metadata": {},
     "output_type": "execute_result"
    }
   ],
   "source": [
    "import datetime\n",
    "timestamp = pd.Timestamp(datetime.datetime(2023, 2, 27))\n",
    "timestamp"
   ]
  },
  {
   "cell_type": "markdown",
   "metadata": {},
   "source": [
    "Q8. Write a Python program that takes in two dates as input (in the format YYYY-MM-DD) and\n",
    "calculates the difference between them in days, hours, and minutes using Pandas time delta. The\n",
    "program should prompt the user to enter the dates and display the result."
   ]
  },
  {
   "cell_type": "code",
   "execution_count": 35,
   "metadata": {},
   "outputs": [
    {
     "data": {
      "text/plain": [
       "Timedelta('1 days 00:00:00')"
      ]
     },
     "execution_count": 35,
     "metadata": {},
     "output_type": "execute_result"
    }
   ],
   "source": [
    "dt = pd.to_datetime('2022-06-20')\n",
    "dt1=pd.to_datetime('2022-06-21')\n",
    "dt2=dt1-dt\n",
    "dt2"
   ]
  },
  {
   "cell_type": "markdown",
   "metadata": {},
   "source": [
    "Q9. Write a Python program that reads a CSV file containing categorical data and converts a specified\n",
    "column to a categorical data type. The program should prompt the user to enter the file path, column\n",
    "name, and category order, and then display the sorted data."
   ]
  },
  {
   "cell_type": "code",
   "execution_count": 43,
   "metadata": {},
   "outputs": [
    {
     "data": {
      "text/plain": [
       "['101',\n",
       " '101-01',\n",
       " '101-02',\n",
       " '101-02-01',\n",
       " '101-02-02',\n",
       " '101-02-03',\n",
       " '101-02-04',\n",
       " '101-02-05',\n",
       " '101-02-06',\n",
       " '101-03',\n",
       " '101-04',\n",
       " '101-05',\n",
       " '101-06',\n",
       " '101-06-01',\n",
       " '101-06-02',\n",
       " '101-07',\n",
       " '102',\n",
       " '102-01',\n",
       " '102-02',\n",
       " '102-03',\n",
       " '102-04',\n",
       " '102-05',\n",
       " '102-06',\n",
       " '102-06-02',\n",
       " '102-07',\n",
       " '103',\n",
       " '103-01',\n",
       " '103-02',\n",
       " '103-03',\n",
       " '103-03-02',\n",
       " '103-03-03',\n",
       " '103-03-04',\n",
       " '103-03-05',\n",
       " '103-04',\n",
       " '103-04-01',\n",
       " '103-04-02',\n",
       " '103-05',\n",
       " '103-05-02',\n",
       " '103-05-02-01',\n",
       " '103-05-02-02',\n",
       " '103-05-02-03',\n",
       " '103-05-02-04',\n",
       " '103-05-03',\n",
       " '103-05-04',\n",
       " '103-05-04-01',\n",
       " '103-05-04-02',\n",
       " '104',\n",
       " '104-01',\n",
       " '104-01-01',\n",
       " '104-01-02',\n",
       " '104-02',\n",
       " '104-02-01',\n",
       " '104-02-02',\n",
       " '104-02-03',\n",
       " '104-02-04',\n",
       " '104-03',\n",
       " '104-03-01',\n",
       " '104-03-02',\n",
       " '104-03-03',\n",
       " '104-03-04',\n",
       " '104-03-05',\n",
       " '104-04',\n",
       " '104-05-01',\n",
       " '104-06',\n",
       " '105',\n",
       " '105-01',\n",
       " '105-01-01',\n",
       " '105-01-02',\n",
       " '105-02',\n",
       " '105-02-01',\n",
       " '105-02-02',\n",
       " '106',\n",
       " '106-01',\n",
       " '106-01-01',\n",
       " '106-01-02',\n",
       " '106-01-04',\n",
       " '106-01-05',\n",
       " '106-01-06',\n",
       " '106-02',\n",
       " '106-03',\n",
       " '106-03-01',\n",
       " '106-03-02',\n",
       " '106-03-03',\n",
       " '106-03-04',\n",
       " '106-04',\n",
       " '106-04-01',\n",
       " '106-04-02',\n",
       " '106-04-03',\n",
       " '106-04-04',\n",
       " '106-04-05',\n",
       " '106-04-06',\n",
       " '106-04-07',\n",
       " '106-04-08',\n",
       " '106-05',\n",
       " '106-05-02',\n",
       " '106-05-03',\n",
       " '106-05-04',\n",
       " '106-05-05',\n",
       " '106-05-06',\n",
       " '106-05-07',\n",
       " '106-06',\n",
       " '106-06-01',\n",
       " '106-06-02',\n",
       " '106-06-03',\n",
       " '106-06-04',\n",
       " '106-06-04-01',\n",
       " '106-06-04-02',\n",
       " '106-06-04-03',\n",
       " '106-06-04-04',\n",
       " '106-06-04-05',\n",
       " '106-06-04-06',\n",
       " '106-06-05',\n",
       " '106-06-06',\n",
       " '106-06-07',\n",
       " '106-06-07-01',\n",
       " '106-06-07-02',\n",
       " '106-06-07-03',\n",
       " '106-06-07-04',\n",
       " '106-06-07-05',\n",
       " '106-06-07-06',\n",
       " '106-06-07-07',\n",
       " '106-06-07-08',\n",
       " '106-06-07-09',\n",
       " '106-06-07-10',\n",
       " '106-06-07-11',\n",
       " '106-06-08',\n",
       " '106-06-09',\n",
       " '107',\n",
       " '107-02',\n",
       " '107-02-01',\n",
       " '107-02-02',\n",
       " '107-02-02-01',\n",
       " '107-02-03',\n",
       " '107-02-03-02',\n",
       " '107-02-03-03',\n",
       " '107-02-03-04',\n",
       " '107-02-03-05',\n",
       " '107-02-03-06',\n",
       " '107-02-03-07',\n",
       " '107-02-04',\n",
       " '107-02-04-02',\n",
       " '107-02-04-03',\n",
       " '107-02-04-05',\n",
       " '107-02-05',\n",
       " '107-02-05-01',\n",
       " '107-02-05-03',\n",
       " '107-02-05-04',\n",
       " '107-02-05-05',\n",
       " '107-02-06',\n",
       " '107-02-06-01',\n",
       " '107-02-06-02',\n",
       " '107-02-07',\n",
       " '107-03',\n",
       " '107-03-01',\n",
       " '107-03-02',\n",
       " '107-03-03',\n",
       " '107-03-04',\n",
       " '107-03-05',\n",
       " '107-05',\n",
       " '107-05-01',\n",
       " '107-05-02',\n",
       " '107-05-03',\n",
       " '107-05-04',\n",
       " '107-06',\n",
       " '107-06-01',\n",
       " '107-06-02',\n",
       " '107-07',\n",
       " '108',\n",
       " '108-01',\n",
       " '108-01-01',\n",
       " '108-01-02',\n",
       " '108-01-03',\n",
       " '108-01-04',\n",
       " '108-02',\n",
       " '108-03',\n",
       " '108-03-01',\n",
       " '108-03-02',\n",
       " '108-03-03',\n",
       " '108-03-03-02',\n",
       " '108-03-03-04',\n",
       " '108-03-04',\n",
       " '108-03-05',\n",
       " '108-03-06',\n",
       " '108-03-07',\n",
       " '108-04',\n",
       " '108-04-01',\n",
       " '108-04-02',\n",
       " '108-04-03',\n",
       " '108-04-04',\n",
       " '108-05',\n",
       " '108-05-01',\n",
       " '108-05-02',\n",
       " '108-05-03',\n",
       " '108-05-04',\n",
       " '108-05-05',\n",
       " '108-06',\n",
       " '108-06-01',\n",
       " '108-06-02',\n",
       " '108-06-03',\n",
       " '108-06-04',\n",
       " '108-07',\n",
       " '108-07-01',\n",
       " '108-07-02',\n",
       " '108-07-03',\n",
       " '108-07-04',\n",
       " '108-07-05',\n",
       " '108-07-06',\n",
       " '108-07-07',\n",
       " '108-07-08',\n",
       " '108-07-09',\n",
       " '108-07-09-01',\n",
       " '108-07-09-02',\n",
       " '108-07-09-03',\n",
       " '108-07-10',\n",
       " '109',\n",
       " '109-01',\n",
       " '109-02',\n",
       " '109-02-01',\n",
       " '109-02-03',\n",
       " '109-02-04',\n",
       " '109-02-05',\n",
       " '109-03',\n",
       " '109-03-01',\n",
       " '109-03-02',\n",
       " '109-03-03',\n",
       " '109-03-04',\n",
       " '109-03-04-01',\n",
       " '109-03-04-02',\n",
       " '109-03-04-03',\n",
       " '109-03-05',\n",
       " '109-03-06',\n",
       " '109-03-07',\n",
       " '109-03-07-01',\n",
       " '109-03-07-02',\n",
       " '109-03-07-03',\n",
       " '109-03-07-04',\n",
       " '109-03-07-05',\n",
       " '109-03-07-06',\n",
       " '109-03-07-07',\n",
       " '109-03-08',\n",
       " '109-03-09',\n",
       " '109-03-10',\n",
       " '109-04',\n",
       " '109-05',\n",
       " '109-05-01',\n",
       " '109-05-02',\n",
       " '109-05-03',\n",
       " '109-06',\n",
       " '109-06-01',\n",
       " '109-06-02',\n",
       " '109-06-04',\n",
       " '109-06-05',\n",
       " '109-06-06',\n",
       " '109-06-07',\n",
       " '110',\n",
       " '110-01',\n",
       " '110-01-01',\n",
       " '110-01-02',\n",
       " '110-02',\n",
       " '110-02-01',\n",
       " '110-02-02',\n",
       " '110-02-03',\n",
       " '110-02-04',\n",
       " '110-03',\n",
       " '110-03-01',\n",
       " '110-03-02',\n",
       " '110-03-03',\n",
       " '110-03-04',\n",
       " '110-03-05',\n",
       " '110-03-06',\n",
       " '110-03-07',\n",
       " '110-04',\n",
       " '110-05',\n",
       " '111',\n",
       " '111-01',\n",
       " '111-01-01',\n",
       " '111-01-01-01',\n",
       " '111-01-01-02',\n",
       " '111-01-01-03',\n",
       " '111-01-01-04',\n",
       " '111-01-02',\n",
       " '111-01-03',\n",
       " '111-01-04',\n",
       " '111-01-05',\n",
       " '111-01-06',\n",
       " '111-01-07',\n",
       " '111-02',\n",
       " '111-03',\n",
       " '111-04',\n",
       " '111-05']"
      ]
     },
     "execution_count": 43,
     "metadata": {},
     "output_type": "execute_result"
    }
   ],
   "source": [
    "data=pd.read_csv(\"taxonomy.csv.xls\")\n",
    "d=sorted(data[\"taxonomy_id\"])\n",
    "d"
   ]
  },
  {
   "cell_type": "markdown",
   "metadata": {},
   "source": [
    "Q10. Write a Python program that reads a CSV file containing sales data for different products and\n",
    "visualizes the data using a stacked bar chart to show the sales of each product category over time. The\n",
    "program should prompt the user to enter the file path and display the chart."
   ]
  },
  {
   "cell_type": "code",
   "execution_count": null,
   "metadata": {},
   "outputs": [],
   "source": [
    "data=pd.read_csv(\"\")\n",
    "df=pd.DataFrame(data)\n",
    "df.plot.bar(x='School', stacked=True, title='The number of Students')"
   ]
  },
  {
   "cell_type": "markdown",
   "metadata": {},
   "source": [
    "Q11. You are given a CSV file containing student data that includes the student ID and their test score. Write\n",
    "a Python program that reads the CSV file, calculates the mean, median, and mode of the test scores, and\n",
    "displays the results in a table."
   ]
  },
  {
   "cell_type": "code",
   "execution_count": null,
   "metadata": {},
   "outputs": [],
   "source": [
    "data=pd.read_csv(\"\")\n",
    "df=pd.DataFrame(data)\n",
    "df[\"mean\"]=df[\"test scores\"].mean()\n",
    "df[\"mode\"]=df[\"test scores\"].mode()\n",
    "df[\"median\"]=df[\"test scores\"].median()"
   ]
  },
  {
   "cell_type": "code",
   "execution_count": null,
   "metadata": {},
   "outputs": [],
   "source": []
  }
 ],
 "metadata": {
  "kernelspec": {
   "display_name": "Python 3",
   "language": "python",
   "name": "python3"
  }
 },
 "nbformat": 4,
 "nbformat_minor": 4
}
